{
 "cells": [
  {
   "cell_type": "markdown",
   "id": "e7fbb122",
   "metadata": {},
   "source": [
    "### Data Information"
   ]
  },
  {
   "cell_type": "code",
   "execution_count": 5,
   "id": "fb221087",
   "metadata": {},
   "outputs": [
    {
     "name": "stdout",
     "output_type": "stream",
     "text": [
      "<class 'pandas.core.frame.DataFrame'>\n",
      "RangeIndex: 555719 entries, 0 to 555718\n",
      "Data columns (total 23 columns):\n",
      " #   Column                 Non-Null Count   Dtype  \n",
      "---  ------                 --------------   -----  \n",
      " 0   Unnamed: 0             555719 non-null  int64  \n",
      " 1   trans_date_trans_time  555719 non-null  object \n",
      " 2   cc_num                 555719 non-null  int64  \n",
      " 3   merchant               555719 non-null  object \n",
      " 4   category               555719 non-null  object \n",
      " 5   amt                    555719 non-null  float64\n",
      " 6   first                  555719 non-null  object \n",
      " 7   last                   555719 non-null  object \n",
      " 8   gender                 555719 non-null  object \n",
      " 9   street                 555719 non-null  object \n",
      " 10  city                   555719 non-null  object \n",
      " 11  state                  555719 non-null  object \n",
      " 12  zip                    555719 non-null  int64  \n",
      " 13  lat                    555719 non-null  float64\n",
      " 14  long                   555719 non-null  float64\n",
      " 15  city_pop               555719 non-null  int64  \n",
      " 16  job                    555719 non-null  object \n",
      " 17  dob                    555719 non-null  object \n",
      " 18  trans_num              555719 non-null  object \n",
      " 19  unix_time              555719 non-null  int64  \n",
      " 20  merch_lat              555719 non-null  float64\n",
      " 21  merch_long             555719 non-null  float64\n",
      " 22  is_fraud               555719 non-null  int64  \n",
      "dtypes: float64(5), int64(6), object(12)\n",
      "memory usage: 97.5+ MB\n"
     ]
    },
    {
     "data": {
      "text/plain": [
       "(None,\n",
       "    Unnamed: 0 trans_date_trans_time            cc_num  \\\n",
       " 0           0   2020-06-21 12:14:25  2291163933867244   \n",
       " 1           1   2020-06-21 12:14:33  3573030041201292   \n",
       " 2           2   2020-06-21 12:14:53  3598215285024754   \n",
       " 3           3   2020-06-21 12:15:15  3591919803438423   \n",
       " 4           4   2020-06-21 12:15:17  3526826139003047   \n",
       " \n",
       "                                merchant        category    amt   first  \\\n",
       " 0                 fraud_Kirlin and Sons   personal_care   2.86    Jeff   \n",
       " 1                  fraud_Sporer-Keebler   personal_care  29.84  Joanne   \n",
       " 2  fraud_Swaniawski, Nitzsche and Welch  health_fitness  41.28  Ashley   \n",
       " 3                     fraud_Haley Group        misc_pos  60.05   Brian   \n",
       " 4                 fraud_Johnston-Casper          travel   3.19  Nathan   \n",
       " \n",
       "        last gender                       street  ...      lat      long  \\\n",
       " 0   Elliott      M            351 Darlene Green  ...  33.9659  -80.9355   \n",
       " 1  Williams      F             3638 Marsh Union  ...  40.3207 -110.4360   \n",
       " 2     Lopez      F         9333 Valentine Point  ...  40.6729  -73.5365   \n",
       " 3  Williams      M  32941 Krystal Mill Apt. 552  ...  28.5697  -80.8191   \n",
       " 4    Massey      M     5783 Evan Roads Apt. 465  ...  44.2529  -85.0170   \n",
       " \n",
       "    city_pop                     job         dob  \\\n",
       " 0    333497     Mechanical engineer  1968-03-19   \n",
       " 1       302  Sales professional, IT  1990-01-17   \n",
       " 2     34496       Librarian, public  1970-10-21   \n",
       " 3     54767            Set designer  1987-07-25   \n",
       " 4      1126      Furniture designer  1955-07-06   \n",
       " \n",
       "                           trans_num   unix_time  merch_lat  merch_long  \\\n",
       " 0  2da90c7d74bd46a0caf3777415b3ebd3  1371816865  33.986391  -81.200714   \n",
       " 1  324cc204407e99f51b0d6ca0055005e7  1371816873  39.450498 -109.960431   \n",
       " 2  c81755dbbbea9d5c77f094348a7579be  1371816893  40.495810  -74.196111   \n",
       " 3  2159175b9efe66dc301f149d3d5abf8c  1371816915  28.812398  -80.883061   \n",
       " 4  57ff021bd3f328f8738bb535c302a31b  1371816917  44.959148  -85.884734   \n",
       " \n",
       "    is_fraud  \n",
       " 0         0  \n",
       " 1         0  \n",
       " 2         0  \n",
       " 3         0  \n",
       " 4         0  \n",
       " \n",
       " [5 rows x 23 columns])"
      ]
     },
     "execution_count": 5,
     "metadata": {},
     "output_type": "execute_result"
    }
   ],
   "source": [
    "import pandas as pd\n",
    "import numpy as np\n",
    "\n",
    "df = pd.read_csv(\"fraudTest.csv\")\n",
    "df.info(), df.head()"
   ]
  },
  {
   "cell_type": "markdown",
   "id": "5d0e00d9",
   "metadata": {},
   "source": [
    "### Preprocessing Date"
   ]
  },
  {
   "cell_type": "code",
   "execution_count": 6,
   "id": "97f71ef3",
   "metadata": {},
   "outputs": [
    {
     "data": {
      "text/plain": [
       "((444575, 11),\n",
       " (111144, 11),\n",
       " is_fraud\n",
       " 0    442859\n",
       " 1      1716\n",
       " Name: count, dtype: int64,\n",
       " is_fraud\n",
       " 0    110715\n",
       " 1       429\n",
       " Name: count, dtype: int64)"
      ]
     },
     "execution_count": 6,
     "metadata": {},
     "output_type": "execute_result"
    }
   ],
   "source": [
    "from sklearn.model_selection import train_test_split\n",
    "from sklearn.preprocessing import LabelEncoder\n",
    "\n",
    "columns_to_drop = ['Unnamed: 0', 'trans_date_trans_time', 'cc_num', 'first', 'last',\n",
    "                   'street', 'city', 'state', 'zip', 'dob', 'trans_num']\n",
    "df_cleaned = df.drop(columns=columns_to_drop)\n",
    "\n",
    "categorical_cols = df_cleaned.select_dtypes(include=['object']).columns\n",
    "le = LabelEncoder()\n",
    "for col in categorical_cols:\n",
    "    df_cleaned[col] = le.fit_transform(df_cleaned[col])\n",
    "\n",
    "X = df_cleaned.drop('is_fraud', axis=1)\n",
    "y = df_cleaned['is_fraud']\n",
    "\n",
    "X_train, X_test, y_train, y_test = train_test_split(X, y, test_size=0.2, random_state=42, stratify=y)\n",
    "X_train.shape, X_test.shape, y_train.value_counts(), y_test.value_counts()"
   ]
  },
  {
   "cell_type": "markdown",
   "id": "31604063",
   "metadata": {},
   "source": [
    "### Logistic Regression"
   ]
  },
  {
   "cell_type": "code",
   "execution_count": 7,
   "id": "6605e8b2",
   "metadata": {},
   "outputs": [
    {
     "data": {
      "text/plain": [
       "({'0': {'precision': 0.9989500368905957,\n",
       "   'recall': 0.953863523461139,\n",
       "   'f1-score': 0.9758863019964608,\n",
       "   'support': 110715.0},\n",
       "  '1': {'precision': 0.0586067084408404,\n",
       "   'recall': 0.7412587412587412,\n",
       "   'f1-score': 0.10862510674637062,\n",
       "   'support': 429.0},\n",
       "  'accuracy': 0.9530428993018066,\n",
       "  'macro avg': {'precision': 0.528778372665718,\n",
       "   'recall': 0.8475611323599401,\n",
       "   'f1-score': 0.5422557043714157,\n",
       "   'support': 111144.0},\n",
       "  'weighted avg': {'precision': 0.9953204456584558,\n",
       "   'recall': 0.9530428993018066,\n",
       "   'f1-score': 0.9725387973829657,\n",
       "   'support': 111144.0}},\n",
       " array([[105607,   5108],\n",
       "        [   111,    318]]))"
      ]
     },
     "execution_count": 7,
     "metadata": {},
     "output_type": "execute_result"
    }
   ],
   "source": [
    "from sklearn.linear_model import LogisticRegression\n",
    "from sklearn.metrics import classification_report, confusion_matrix\n",
    "\n",
    "lr = LogisticRegression(max_iter=1000, class_weight='balanced', random_state=42)\n",
    "lr.fit(X_train, y_train)\n",
    "y_pred_lr = lr.predict(X_test)\n",
    "\n",
    "report_lr = classification_report(y_test, y_pred_lr, output_dict=True)\n",
    "conf_matrix_lr = confusion_matrix(y_test, y_pred_lr)\n",
    "report_lr, conf_matrix_lr"
   ]
  },
  {
   "cell_type": "markdown",
   "id": "c50c3585",
   "metadata": {},
   "source": [
    "### Decision Tree"
   ]
  },
  {
   "cell_type": "code",
   "execution_count": 8,
   "id": "536b6e32",
   "metadata": {},
   "outputs": [
    {
     "name": "stdout",
     "output_type": "stream",
     "text": [
      "Decision Tree:\n",
      "               precision    recall  f1-score   support\n",
      "\n",
      "           0       1.00      1.00      1.00    110715\n",
      "           1       0.67      0.62      0.64       429\n",
      "\n",
      "    accuracy                           1.00    111144\n",
      "   macro avg       0.84      0.81      0.82    111144\n",
      "weighted avg       1.00      1.00      1.00    111144\n",
      "\n",
      "Confusion Matrix:\n",
      " [[110586    129]\n",
      " [   165    264]]\n"
     ]
    }
   ],
   "source": [
    "from sklearn.tree import DecisionTreeClassifier\n",
    "from sklearn.metrics import classification_report, confusion_matrix\n",
    "\n",
    "# Train the Decision Tree model\n",
    "dt = DecisionTreeClassifier(class_weight='balanced', random_state=42)\n",
    "dt.fit(X_train, y_train)\n",
    "\n",
    "# Predict and evaluate\n",
    "y_pred_dt = dt.predict(X_test)\n",
    "print(\"Decision Tree:\\n\", classification_report(y_test, y_pred_dt))\n",
    "print(\"Confusion Matrix:\\n\", confusion_matrix(y_test, y_pred_dt))"
   ]
  },
  {
   "cell_type": "code",
   "execution_count": null,
   "id": "8898bd8c",
   "metadata": {},
   "outputs": [],
   "source": []
  }
 ],
 "metadata": {
  "kernelspec": {
   "display_name": "Python 3",
   "language": "python",
   "name": "python3"
  },
  "language_info": {
   "codemirror_mode": {
    "name": "ipython",
    "version": 3
   },
   "file_extension": ".py",
   "mimetype": "text/x-python",
   "name": "python",
   "nbconvert_exporter": "python",
   "pygments_lexer": "ipython3",
   "version": "3.13.5"
  }
 },
 "nbformat": 4,
 "nbformat_minor": 5
}
